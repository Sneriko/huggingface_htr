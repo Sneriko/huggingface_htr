{
 "cells": [
  {
   "cell_type": "code",
   "execution_count": null,
   "metadata": {},
   "outputs": [],
   "source": [
    "from transformers import AutoTokenizer\n",
    "\n",
    "# Load the tokenizer\n",
    "tokenizer = AutoTokenizer.from_pretrained(\"tocr-base-handwritten\")\n",
    "\n",
    "# Load the dict file\n",
    "with open(\"/leonardo/home/userexternal/elenas00/projects/huggingface_htr/data/dict_satrn.txt\", \"r\") as file:\n",
    "    chars = file.read().splitlines()\n",
    "\n",
    "# Check if all characters exist in the tokenizer's vocabulary\n",
    "missing_chars = [char for char in chars if char not in tokenizer.get_vocab()]\n",
    "\n",
    "if missing_chars:\n",
    "    print(f\"These characters are not in the vocabulary: {missing_chars}\")\n",
    "else:\n",
    "    print(\"All characters in the dict file exist in the vocabulary.\")"
   ]
  }
 ],
 "metadata": {
  "language_info": {
   "name": "python"
  },
  "orig_nbformat": 4
 },
 "nbformat": 4,
 "nbformat_minor": 2
}
